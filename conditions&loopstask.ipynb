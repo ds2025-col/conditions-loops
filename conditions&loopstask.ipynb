{
  "nbformat": 4,
  "nbformat_minor": 0,
  "metadata": {
    "colab": {
      "provenance": [],
      "authorship_tag": "ABX9TyNCb43bT5qeb8TBvq95xvcs",
      "include_colab_link": true
    },
    "kernelspec": {
      "name": "python3",
      "display_name": "Python 3"
    },
    "language_info": {
      "name": "python"
    }
  },
  "cells": [
    {
      "cell_type": "markdown",
      "metadata": {
        "id": "view-in-github",
        "colab_type": "text"
      },
      "source": [
        "<a href=\"https://colab.research.google.com/github/ds2025-col/conditions-loops/blob/main/conditions%26loopstask.ipynb\" target=\"_parent\"><img src=\"https://colab.research.google.com/assets/colab-badge.svg\" alt=\"Open In Colab\"/></a>"
      ]
    },
    {
      "cell_type": "code",
      "execution_count": null,
      "metadata": {
        "id": "Zx7Pu2tFwjbV"
      },
      "outputs": [],
      "source": [
        "\n"
      ]
    },
    {
      "cell_type": "markdown",
      "source": [
        "**condition&loops**\n",
        "\n",
        "condition is used to decided the path of exicution\n",
        "\n",
        "if,elif,else\n",
        "\n"
      ],
      "metadata": {
        "id": "TaQDcmhawo_L"
      }
    },
    {
      "cell_type": "code",
      "source": [
        "age=int(input('enter your age:'))\n",
        "if age>=50:\n",
        "   print('you are eligible')\n",
        "elif age==18:\n",
        "    print('you are eligible')\n",
        "else:\n",
        "      print('you are not eligible:')"
      ],
      "metadata": {
        "colab": {
          "base_uri": "https://localhost:8080/"
        },
        "id": "pblRg3woxHXb",
        "outputId": "19e8f3d6-e428-4196-a807-79b071d920c3"
      },
      "execution_count": null,
      "outputs": [
        {
          "output_type": "stream",
          "name": "stdout",
          "text": [
            "enter your age:13\n",
            "you are not eligible:\n"
          ]
        }
      ]
    },
    {
      "cell_type": "code",
      "source": [
        "num=int(input('enter a number:'))\n",
        "if num>0:\n",
        " print('positive number')\n",
        "elif num==0:\n",
        "  print('zero')\n",
        "else:\n",
        "  print('negetive number')\n",
        "\n"
      ],
      "metadata": {
        "colab": {
          "base_uri": "https://localhost:8080/"
        },
        "id": "QKcjNofbzAHd",
        "outputId": "5d43856b-6528-409c-ae7b-c524a26debbc"
      },
      "execution_count": null,
      "outputs": [
        {
          "output_type": "stream",
          "name": "stdout",
          "text": [
            "enter a number:15\n",
            "positive number\n"
          ]
        }
      ]
    },
    {
      "cell_type": "code",
      "source": [
        "age=int(input('enter your age:'))\n",
        "if age>=18:\n",
        "  print('you are eligilble for vote')\n",
        "elif age==21:\n",
        "  print('you are eligible')\n",
        "elif age==80:\n",
        "  print('you are eligible')\n",
        "else:\n",
        "  print('you are not eligible')"
      ],
      "metadata": {
        "colab": {
          "base_uri": "https://localhost:8080/"
        },
        "id": "pzvnLXSt0TxD",
        "outputId": "5502e9a1-73e7-422b-9851-5c63727d25f4"
      },
      "execution_count": null,
      "outputs": [
        {
          "output_type": "stream",
          "name": "stdout",
          "text": [
            "enter your age:12\n",
            "you are not eligible\n"
          ]
        }
      ]
    },
    {
      "cell_type": "code",
      "source": [
        "age=int(input('enter your '))"
      ],
      "metadata": {
        "id": "rBWeHWq13hIT"
      },
      "execution_count": null,
      "outputs": []
    },
    {
      "cell_type": "code",
      "source": [],
      "metadata": {
        "id": "-7rWlt1H0To8"
      },
      "execution_count": null,
      "outputs": []
    }
  ]
}